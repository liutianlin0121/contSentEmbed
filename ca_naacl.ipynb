{
  "nbformat": 4,
  "nbformat_minor": 0,
  "metadata": {
    "colab": {
      "name": "ca_naacl.ipynb",
      "version": "0.3.2",
      "provenance": [],
      "collapsed_sections": []
    },
    "kernelspec": {
      "display_name": "Python 3",
      "language": "python",
      "name": "python3"
    }
  },
  "cells": [
    {
      "metadata": {
        "id": "-iBDcnClM7b5",
        "colab_type": "text"
      },
      "cell_type": "markdown",
      "source": [
        "# Continual Learning for Sentence Representations Using Conceptors"
      ]
    },
    {
      "metadata": {
        "id": "-1m5aRpwf877",
        "colab_type": "text"
      },
      "cell_type": "markdown",
      "source": [
        "## Some prepartion"
      ]
    },
    {
      "metadata": {
        "id": "h2yftonGgdmJ",
        "colab_type": "text"
      },
      "cell_type": "markdown",
      "source": [
        "###  load packages\n",
        "\n"
      ]
    },
    {
      "metadata": {
        "id": "qZqK1z9zgaE8",
        "colab_type": "code",
        "outputId": "7c7cca79-2017-43a4-f535-33988c19e0f9",
        "colab": {
          "base_uri": "https://localhost:8080/",
          "height": 51
        }
      },
      "cell_type": "code",
      "source": [
        "# using colab usage\n",
        "  \n",
        "!pip install -q gdown\n",
        "!pip install -q gensim\n",
        "!pip install -q pandas scipy seaborn\n",
        "\n",
        "\n",
        "resourceFile = '/content/'\n",
        "\n",
        "\n",
        "import gensim\n",
        "import pandas as pd\n",
        "import numpy as np\n",
        "import scipy\n",
        "import math\n",
        "import os\n",
        "import tensorflow as tf\n",
        "import matplotlib.pyplot as plt\n",
        "import seaborn as sns\n",
        "import re\n",
        "\n",
        "from gensim.models.keyedvectors import KeyedVectors\n",
        "\n",
        "import nltk\n",
        "from nltk.tokenize import RegexpTokenizer\n",
        "nltk.download('punkt')\n",
        "from sklearn.decomposition import TruncatedSVD, randomized_svd\n",
        "from sklearn.metrics.pairwise import cosine_similarity\n",
        "\n"
      ],
      "execution_count": 0,
      "outputs": [
        {
          "output_type": "stream",
          "text": [
            "[nltk_data] Downloading package punkt to /root/nltk_data...\n",
            "[nltk_data]   Unzipping tokenizers/punkt.zip.\n"
          ],
          "name": "stdout"
        }
      ]
    },
    {
      "metadata": {
        "id": "cUN7JCp5goIF",
        "colab_type": "text"
      },
      "cell_type": "markdown",
      "source": [
        "### load word vectors\n",
        "\n"
      ]
    },
    {
      "metadata": {
        "id": "JWHCreaogrZk",
        "colab_type": "code",
        "outputId": "b7077968-7efd-46c2-b936-184b33101900",
        "colab": {
          "base_uri": "https://localhost:8080/",
          "height": 102
        }
      },
      "cell_type": "code",
      "source": [
        "\n",
        "\n",
        "# load glove word vector\n",
        "!gdown https://drive.google.com/uc?id=1Ty2exMyi-XOufY-v81RJfiPvnintHuy2\n",
        "  \n",
        "glove = KeyedVectors.load_word2vec_format(resourceFile + 'gensim_glove.840B.300d.txt.bin', binary=True)\n",
        "print('The glove embedding has been loaded!')\n",
        "\n",
        "\n",
        "\n"
      ],
      "execution_count": 0,
      "outputs": [
        {
          "output_type": "stream",
          "text": [
            "Downloading...\n",
            "From: https://drive.google.com/uc?id=1Ty2exMyi-XOufY-v81RJfiPvnintHuy2\n",
            "To: /content/gensim_glove.840B.300d.txt.bin\n",
            "2.65GB [00:58, 45.2MB/s]\n",
            "The glove embedding has been loaded!\n"
          ],
          "name": "stdout"
        }
      ]
    },
    {
      "metadata": {
        "id": "_OcIeY_BM7cD",
        "colab_type": "text"
      },
      "cell_type": "markdown",
      "source": [
        "### load STS Benchmark\n",
        "\n",
        "The STS Benchmark brings together the English data from the SemEval sentence similarity taskshttp://ixa2.si.ehu.es/stswiki/index.php/STSbenchmark and \n",
        " http://ixa2.si.ehu.es/stswiki/images/e/ee/Stscompanion.tar.gz\n"
      ]
    },
    {
      "metadata": {
        "id": "XUEMfkhxM7cF",
        "colab_type": "code",
        "outputId": "ec9afd02-b8bc-4eb2-a747-b7f95797172d",
        "colab": {
          "base_uri": "https://localhost:8080/",
          "height": 799
        }
      },
      "cell_type": "code",
      "source": [
        "!wget http://ixa2.si.ehu.es/stswiki/images/4/48/Stsbenchmark.tar.gz # STS\n",
        "!tar xvzf Stsbenchmark.tar.gz\n",
        "\n",
        "!wget http://ixa2.si.ehu.es/stswiki/images/e/ee/Stscompanion.tar.gz # STS companian\n",
        "!tar xvzf Stscompanion.tar.gz\n",
        "  \n",
        "  \n",
        "\n",
        "def load_sts_dataset(filename):\n",
        "    # For a STS dataset, loads the relevant information: the sentences and their human rated similarity score.\n",
        "    sent_pairs = []\n",
        "    with tf.gfile.GFile(filename, \"r\") as f:\n",
        "        for line in f:\n",
        "            ts = line.strip().split(\"\\t\")\n",
        "            #sent_pairs.append((ts[5], ts[6], float(ts[4])))\n",
        "            if len(ts) == 7 or len(ts) == 9:\n",
        "                sent_pairs.append((re.sub(\"[^0-9]\", \"\", ts[2]) + '-' + ts[1] , ts[5], ts[6], float(ts[4])))\n",
        "            elif len(ts) == 6 or len(ts) == 8:\n",
        "                sent_pairs.append((re.sub(\"[^0-9]\", \"\", ts[1]) + '-' + ts[0] , ts[4], ts[5], float(ts[3])))\n",
        "            else:\n",
        "                print('data format is wrong!!!')\n",
        "    return pd.DataFrame(sent_pairs, columns=[\"year-task\", \"sent_1\", \"sent_2\", \"sim\"])\n",
        "\n",
        "\n",
        "def load_all_sts_dataset():\n",
        "    # Loads all of the STS datasets \n",
        "    stsbenchmarkDir = resourceFile + 'stsbenchmark/'\n",
        "    stscompanionDir = resourceFile + 'stscompanion/'\n",
        "    sts_train = load_sts_dataset(os.path.join(stsbenchmarkDir, \"sts-train.csv\"))    \n",
        "    sts_dev = load_sts_dataset(os.path.join(stsbenchmarkDir, \"sts-dev.csv\"))\n",
        "    sts_test = load_sts_dataset(os.path.join(stsbenchmarkDir, \"sts-test.csv\"))\n",
        "    sts_other = load_sts_dataset(os.path.join(stscompanionDir, \"sts-other.csv\"))\n",
        "    sts_mt = load_sts_dataset(os.path.join(stscompanionDir, \"sts-mt.csv\"))\n",
        "    \n",
        "    sts_all = pd.concat([sts_train, sts_dev, sts_test, sts_other, sts_mt ])\n",
        "    \n",
        "    return sts_all\n",
        "\n",
        "sts_all = load_all_sts_dataset()\n",
        "\n",
        "\n",
        "\n",
        "\n",
        "# show some sample sts data    \n",
        "sts_all[:5] \n"
      ],
      "execution_count": 0,
      "outputs": [
        {
          "output_type": "stream",
          "text": [
            "--2018-12-09 14:58:29--  http://ixa2.si.ehu.es/stswiki/images/4/48/Stsbenchmark.tar.gz\n",
            "Resolving ixa2.si.ehu.es (ixa2.si.ehu.es)... 158.227.106.100\n",
            "Connecting to ixa2.si.ehu.es (ixa2.si.ehu.es)|158.227.106.100|:80... connected.\n",
            "HTTP request sent, awaiting response... 200 OK\n",
            "Length: 409630 (400K) [application/x-gzip]\n",
            "Saving to: ‘Stsbenchmark.tar.gz’\n",
            "\n",
            "Stsbenchmark.tar.gz 100%[===================>] 400.03K   425KB/s    in 0.9s    \n",
            "\n",
            "2018-12-09 14:58:31 (425 KB/s) - ‘Stsbenchmark.tar.gz’ saved [409630/409630]\n",
            "\n",
            "stsbenchmark/\n",
            "stsbenchmark/readme.txt\n",
            "stsbenchmark/sts-test.csv\n",
            "stsbenchmark/correlation.pl\n",
            "stsbenchmark/LICENSE.txt\n",
            "stsbenchmark/sts-dev.csv\n",
            "stsbenchmark/sts-train.csv\n",
            "--2018-12-09 14:58:33--  http://ixa2.si.ehu.es/stswiki/images/e/ee/Stscompanion.tar.gz\n",
            "Resolving ixa2.si.ehu.es (ixa2.si.ehu.es)... 158.227.106.100\n",
            "Connecting to ixa2.si.ehu.es (ixa2.si.ehu.es)|158.227.106.100|:80... connected.\n",
            "HTTP request sent, awaiting response... 200 OK\n",
            "Length: 267977 (262K) [application/x-gzip]\n",
            "Saving to: ‘Stscompanion.tar.gz’\n",
            "\n",
            "Stscompanion.tar.gz 100%[===================>] 261.70K   330KB/s    in 0.8s    \n",
            "\n",
            "2018-12-09 14:58:35 (330 KB/s) - ‘Stscompanion.tar.gz’ saved [267977/267977]\n",
            "\n",
            "stscompanion/\n",
            "stscompanion/readme.txt\n",
            "stscompanion/sts-mt.csv\n",
            "stscompanion/correlation.pl\n",
            "stscompanion/LICENSE.txt\n",
            "stscompanion/sts-other.csv\n"
          ],
          "name": "stdout"
        },
        {
          "output_type": "execute_result",
          "data": {
            "text/html": [
              "<div>\n",
              "<style scoped>\n",
              "    .dataframe tbody tr th:only-of-type {\n",
              "        vertical-align: middle;\n",
              "    }\n",
              "\n",
              "    .dataframe tbody tr th {\n",
              "        vertical-align: top;\n",
              "    }\n",
              "\n",
              "    .dataframe thead th {\n",
              "        text-align: right;\n",
              "    }\n",
              "</style>\n",
              "<table border=\"1\" class=\"dataframe\">\n",
              "  <thead>\n",
              "    <tr style=\"text-align: right;\">\n",
              "      <th></th>\n",
              "      <th>year-task</th>\n",
              "      <th>sent_1</th>\n",
              "      <th>sent_2</th>\n",
              "      <th>sim</th>\n",
              "    </tr>\n",
              "  </thead>\n",
              "  <tbody>\n",
              "    <tr>\n",
              "      <th>0</th>\n",
              "      <td>2012-MSRvid</td>\n",
              "      <td>A plane is taking off.</td>\n",
              "      <td>An air plane is taking off.</td>\n",
              "      <td>5.00</td>\n",
              "    </tr>\n",
              "    <tr>\n",
              "      <th>1</th>\n",
              "      <td>2012-MSRvid</td>\n",
              "      <td>A man is playing a large flute.</td>\n",
              "      <td>A man is playing a flute.</td>\n",
              "      <td>3.80</td>\n",
              "    </tr>\n",
              "    <tr>\n",
              "      <th>2</th>\n",
              "      <td>2012-MSRvid</td>\n",
              "      <td>A man is spreading shreded cheese on a pizza.</td>\n",
              "      <td>A man is spreading shredded cheese on an uncoo...</td>\n",
              "      <td>3.80</td>\n",
              "    </tr>\n",
              "    <tr>\n",
              "      <th>3</th>\n",
              "      <td>2012-MSRvid</td>\n",
              "      <td>Three men are playing chess.</td>\n",
              "      <td>Two men are playing chess.</td>\n",
              "      <td>2.60</td>\n",
              "    </tr>\n",
              "    <tr>\n",
              "      <th>4</th>\n",
              "      <td>2012-MSRvid</td>\n",
              "      <td>A man is playing the cello.</td>\n",
              "      <td>A man seated is playing the cello.</td>\n",
              "      <td>4.25</td>\n",
              "    </tr>\n",
              "  </tbody>\n",
              "</table>\n",
              "</div>"
            ],
            "text/plain": [
              "     year-task                                         sent_1  \\\n",
              "0  2012-MSRvid                         A plane is taking off.   \n",
              "1  2012-MSRvid                A man is playing a large flute.   \n",
              "2  2012-MSRvid  A man is spreading shreded cheese on a pizza.   \n",
              "3  2012-MSRvid                   Three men are playing chess.   \n",
              "4  2012-MSRvid                    A man is playing the cello.   \n",
              "\n",
              "                                              sent_2   sim  \n",
              "0                        An air plane is taking off.  5.00  \n",
              "1                          A man is playing a flute.  3.80  \n",
              "2  A man is spreading shredded cheese on an uncoo...  3.80  \n",
              "3                         Two men are playing chess.  2.60  \n",
              "4                 A man seated is playing the cello.  4.25  "
            ]
          },
          "metadata": {
            "tags": []
          },
          "execution_count": 5
        }
      ]
    },
    {
      "metadata": {
        "id": "rF7V-XJ9iq5J",
        "colab_type": "text"
      },
      "cell_type": "markdown",
      "source": [
        "### load SIF repository"
      ]
    },
    {
      "metadata": {
        "id": "mr0kmvjvM7ca",
        "colab_type": "code",
        "outputId": "f472a458-7b6d-43d5-f8a7-0c1c887e9033",
        "colab": {
          "base_uri": "https://localhost:8080/",
          "height": 102
        }
      },
      "cell_type": "code",
      "source": [
        "!git clone https://github.com/PrincetonML/SIF # SIF repository\n",
        "\n",
        "\n",
        "wikiWordsPath = resourceFile + '/SIF/auxiliary_data/enwiki_vocab_min200.txt' # https://github.com/PrincetonML/SIF/blob/master/auxiliary_data/enwiki_vocab_min200.txt\n",
        "\n",
        "frequencies = {}\n",
        "with open(wikiWordsPath, \"r+\") as f_in:\n",
        "    for line in f_in:\n",
        "        frequencies[line.split(' ')[0]] = float(line.split(' ')[1])\n",
        "        \n",
        "        \n"
      ],
      "execution_count": 0,
      "outputs": [
        {
          "output_type": "stream",
          "text": [
            "Cloning into 'SIF'...\n",
            "remote: Enumerating objects: 128, done.\u001b[K\n",
            "remote: Total 128 (delta 0), reused 0 (delta 0), pack-reused 128\u001b[K\n",
            "Receiving objects: 100% (128/128), 2.80 MiB | 16.75 MiB/s, done.\n",
            "Resolving deltas: 100% (55/55), done.\n"
          ],
          "name": "stdout"
        }
      ]
    },
    {
      "metadata": {
        "id": "PbmCvOKNiwf-",
        "colab_type": "text"
      },
      "cell_type": "markdown",
      "source": [
        "### define a class for sentences"
      ]
    },
    {
      "metadata": {
        "id": "awf7uemzM7cg",
        "colab_type": "code",
        "colab": {}
      },
      "cell_type": "code",
      "source": [
        "class Sentence:\n",
        "  def __init__(self, sentence):\n",
        "    self.raw = sentence\n",
        "    normalized_sentence = sentence.replace(\"‘\", \"'\").replace(\"’\", \"'\")\n",
        "    self.tokens = [t.lower() for t in nltk.word_tokenize(normalized_sentence)]\n",
        "        \n",
        "   "
      ],
      "execution_count": 0,
      "outputs": []
    },
    {
      "metadata": {
        "id": "6kUrz9PwumB-",
        "colab_type": "text"
      },
      "cell_type": "markdown",
      "source": [
        "### define a class for sentences\n",
        "Divide STS dataset into different domains: 'twitter', 'forums', 'OnWN', 'captions', 'news'"
      ]
    },
    {
      "metadata": {
        "id": "f-atDIPTuuGG",
        "colab_type": "code",
        "colab": {}
      },
      "cell_type": "code",
      "source": [
        "stsbenchmarkDir = resourceFile + 'stsbenchmark/'\n",
        "stscompanionDir = resourceFile + 'stscompanion/'\n",
        "\n",
        "sent_pairs = []\n",
        "\n",
        "\n",
        "for sts_string in ['sts-train.csv', 'sts-test.csv', 'sts-dev.csv']:\n",
        "    filename = os.path.join(stsbenchmarkDir, sts_string)\n",
        "    with tf.gfile.GFile(filename, \"r\") as f:\n",
        "        for line in f:\n",
        "            ts = line.strip().split(\"\\t\")\n",
        "            domain = ts[0].split('-')[1]\n",
        "            \n",
        "            if domain == 'forum':\n",
        "               domain = 'forums'\n",
        "            \n",
        "            sent_pairs.append((domain , ts[5], ts[6], float(ts[4])))\n",
        "            \n",
        "            \n",
        "with tf.gfile.GFile(os.path.join(stscompanionDir, 'sts-other.csv'), \"r\") as f:\n",
        "    for line in f:\n",
        "        ts = line.strip().split(\"\\t\")\n",
        "        domain = ts[0].split('.')[-1]\n",
        "\n",
        "        if domain == 'OnWN':\n",
        "            domain = 'WordNet' \n",
        "            sent_pairs.append((domain , ts[4], ts[5], float(ts[3])))\n",
        "\n",
        "        if domain == 'tweet-news':\n",
        "            domain = 'tweets' \n",
        "            sent_pairs.append((domain , ts[4], ts[5], float(ts[3])))    \n",
        "\n",
        "            \n",
        "df_all_domains = pd.DataFrame(sent_pairs, columns=[\"domain\", \"sent_1\", \"sent_2\", \"sim\"])"
      ],
      "execution_count": 0,
      "outputs": []
    },
    {
      "metadata": {
        "id": "pSzytjMMyK1z",
        "colab_type": "code",
        "outputId": "f004dad9-0a31-4e59-e887-cf2c97d52da6",
        "colab": {
          "base_uri": "https://localhost:8080/",
          "height": 102
        }
      },
      "cell_type": "code",
      "source": [
        "def load_sts_by_domain():\n",
        "    # Divide STS datasets based on their year and tasks\n",
        "    sts_by_domain = {}\n",
        "    \n",
        "    for domain in df_all_domains['domain'].unique():\n",
        "        print(domain)\n",
        "        indices = [i for i, x in enumerate(list(df_all_domains['domain'])) if x == domain]\n",
        "        \n",
        "        pairs = df_all_domains.iloc[indices]\n",
        "        \n",
        "#         sts_by_domain[domain] = pairs[:maxNr]\n",
        "        sts_by_domain[domain] = pairs\n",
        "        \n",
        "    return sts_by_domain\n",
        "  \n",
        "sts_by_domain = load_sts_by_domain()\n"
      ],
      "execution_count": 0,
      "outputs": [
        {
          "output_type": "stream",
          "text": [
            "captions\n",
            "forums\n",
            "news\n",
            "WordNet\n",
            "tweets\n"
          ],
          "name": "stdout"
        }
      ]
    },
    {
      "metadata": {
        "id": "SGZwTNZ5zDwr",
        "colab_type": "code",
        "outputId": "e462e012-8e66-4f57-a987-66d58f541656",
        "colab": {
          "base_uri": "https://localhost:8080/",
          "height": 102
        }
      },
      "cell_type": "code",
      "source": [
        "domains = sts_by_domain.keys()\n",
        "\n",
        "for domain in domains:\n",
        "    print('size of the dataset', domain, ':', len(sts_by_domain[domain]))\n",
        "# len(sts_by_domain['forums']) "
      ],
      "execution_count": 0,
      "outputs": [
        {
          "output_type": "stream",
          "text": [
            "size of the dataset captions : 3250\n",
            "size of the dataset forums : 1079\n",
            "size of the dataset news : 4299\n",
            "size of the dataset WordNet : 2061\n",
            "size of the dataset tweets : 750\n"
          ],
          "name": "stdout"
        }
      ]
    },
    {
      "metadata": {
        "id": "hNlalfk9z15s",
        "colab_type": "code",
        "outputId": "cd6d736d-6e7c-4f3f-dbb7-5d98f47c1ac7",
        "colab": {
          "base_uri": "https://localhost:8080/",
          "height": 102
        }
      },
      "cell_type": "code",
      "source": [
        "\n",
        "df_list = ['tweets', 'forums', 'WordNet', 'captions', 'news']\n",
        "\n",
        "freqs=frequencies\n",
        "a =0.001\n",
        "total_freq = sum(freqs.values())\n",
        "\n",
        "model = eval('glove')\n",
        "pre_embedding_dict = {}\n",
        "\n",
        "tokenVecs_dict = {}\n",
        "\n",
        "  \n",
        "for df_string in df_list:\n",
        "    print(df_string)\n",
        "    \n",
        "    df = sts_by_domain[df_string]\n",
        "    sentences1 = [Sentence(s) for s in df['sent_1']]\n",
        "    sentences2 = [Sentence(s) for s in df['sent_2']]\n",
        "\n",
        "    # SIF requires us to first collect all sentence embeddings and then perform \n",
        "    # common component analysis.\n",
        "    embeddings = []\n",
        "    allTokens = []\n",
        "    for (sent1, sent2) in zip(sentences1, sentences2): \n",
        "\n",
        "        tokens1 =  sent1.tokens\n",
        "        tokens2 =  sent2.tokens\n",
        "\n",
        "        tokens1 = [token for token in tokens1 if token in model and token.islower()]\n",
        "        tokens2 = [token for token in tokens2 if token in model and token.islower()]\n",
        "\n",
        "        weights1 = [a/(a+freqs.get(token,0)/total_freq) for token in tokens1]\n",
        "        weights2 = [a/(a+freqs.get(token,0)/total_freq) for token in tokens2]\n",
        "\n",
        "        embedding1 = np.average([model[token] for token in tokens1], axis=0, weights=weights1)\n",
        "        embedding2 = np.average([model[token] for token in tokens2], axis=0, weights=weights2)\n",
        "\n",
        "        embeddings.append(embedding1)\n",
        "        embeddings.append(embedding2)\n",
        "\n",
        "        allTokens.extend(tokens1)\n",
        "        allTokens.extend(tokens2)\n",
        "        \n",
        "    pre_embedding_dict[df_string] = embeddings\n",
        "\n",
        "    \n",
        "    allTokens = list(set(allTokens).intersection(model.vocab))\n",
        "\n",
        "    tokenVecs = [model[token] for token in allTokens ]\n",
        "    tokenVecs_dict[df_string] = tokenVecs\n",
        "    \n",
        "   \n",
        "    \n",
        "    \n",
        "\n",
        "def test_extra_data_sif(model_str, test_df_string, train_df_string_list):\n",
        "    model = eval(model_str)\n",
        "    df = sts_by_domain[test_df_string]\n",
        "    \n",
        "    \n",
        "    target_embedding = np.array(pre_embedding_dict[test_df_string])\n",
        "\n",
        "    extra_embeddings = []\n",
        "    \n",
        "    for i in np.arange(len(train_df_string_list)):\n",
        "        extra_embeddings = extra_embeddings + pre_embedding_dict[train_df_string_list[i]]\n",
        "\n",
        "\n",
        "    X =  np.array(extra_embeddings)\n",
        "    svd = TruncatedSVD(n_components=1, n_iter=7, random_state=0)\n",
        "    svd.fit(X)\n",
        "    pc =  svd.components_\n",
        "    embeddings_proj = target_embedding - target_embedding.dot(pc.transpose()) * pc\n",
        "\n",
        "\n",
        "    sims = [cosine_similarity(embeddings_proj[idx*2].reshape(1, -1), \n",
        "                              embeddings_proj[idx*2+1].reshape(1, -1))[0][0] \n",
        "            for idx in range(int(len(embeddings_proj)/2))]\n",
        "\n",
        "\n",
        "    pearson_correlation = round(scipy.stats.pearsonr(sims, df['sim'])[0] * 100,1)\n",
        "\n",
        "    return pearson_correlation"
      ],
      "execution_count": 0,
      "outputs": [
        {
          "output_type": "stream",
          "text": [
            "tweets\n",
            "forums\n",
            "WordNet\n",
            "captions\n",
            "news\n"
          ],
          "name": "stdout"
        }
      ]
    },
    {
      "metadata": {
        "id": "OQI5KJaVa_Cy",
        "colab_type": "code",
        "outputId": "66876589-f624-4a06-f28d-c0057be80031",
        "colab": {
          "base_uri": "https://localhost:8080/",
          "height": 34
        }
      },
      "cell_type": "code",
      "source": [
        "\n",
        "df_list = ['news', 'captions', 'WordNet', 'forums', 'tweets']\n",
        "print('training corpus presented: large cardinality -> small cardinality')"
      ],
      "execution_count": 0,
      "outputs": [
        {
          "output_type": "stream",
          "text": [
            "training corpus presented: large cardinality -> small cardinality\n"
          ],
          "name": "stdout"
        }
      ]
    },
    {
      "metadata": {
        "id": "OIQx49k4lK3d",
        "colab_type": "text"
      },
      "cell_type": "markdown",
      "source": [
        "## Conduct baseline algorithms and CA"
      ]
    },
    {
      "metadata": {
        "id": "VqmrExSsbCl1",
        "colab_type": "text"
      },
      "cell_type": "markdown",
      "source": [
        "### (1) corpus-specialized SIF"
      ]
    },
    {
      "metadata": {
        "id": "ST-tGfyCbE2y",
        "colab_type": "code",
        "outputId": "3873bcdf-ab31-4570-d0b3-e68e2a17795b",
        "colab": {
          "base_uri": "https://localhost:8080/",
          "height": 102
        }
      },
      "cell_type": "code",
      "source": [
        "SIF_specialize_result = []\n",
        "for item in df_list:\n",
        "    temp = test_extra_data_sif('glove', item, [item])\n",
        "    SIF_specialize_result.append(temp)\n",
        "    print(item, temp)"
      ],
      "execution_count": 0,
      "outputs": [
        {
          "output_type": "stream",
          "text": [
            "news 67.5\n",
            "captions 81.2\n",
            "WordNet 82.7\n",
            "forums 60.1\n",
            "tweets 73.9\n"
          ],
          "name": "stdout"
        }
      ]
    },
    {
      "metadata": {
        "id": "bIEcgWjKbyki",
        "colab_type": "text"
      },
      "cell_type": "markdown",
      "source": [
        "### (2) train-from-scratch SIF"
      ]
    },
    {
      "metadata": {
        "id": "q41RG77Z0vRs",
        "colab_type": "code",
        "outputId": "618b99b6-d0e5-4b9e-83f3-967923d54634",
        "colab": {
          "base_uri": "https://localhost:8080/",
          "height": 731
        }
      },
      "cell_type": "code",
      "source": [
        "print(df_list)\n",
        "\n",
        "myList = []\n",
        "\n",
        "sif_all_train_result = []\n",
        "\n",
        "countTask = 1\n",
        "for item in df_list:\n",
        "  sif_this_train_result = []\n",
        "\n",
        "  print('======')\n",
        "  myList.append(item)\n",
        "  \n",
        "  print('training SIF on corpus', myList)\n",
        "  print('---')\n",
        "  \n",
        "  for j in np.arange(len(df_list)):\n",
        "#       pearson_correlation = test_extra_data_sif('glove', df_list[j], [item])\n",
        "      pearson_correlation = test_extra_data_sif('glove', df_list[j], myList)\n",
        "\n",
        "      print('testing result of SIF on', df_list[j], ':', pearson_correlation)\n",
        "      sif_this_train_result.append(pearson_correlation)\n",
        "  countTask += 1\n",
        "  \n",
        "  sif_all_train_result.append(sif_this_train_result)\n",
        "print('======')\n"
      ],
      "execution_count": 0,
      "outputs": [
        {
          "output_type": "stream",
          "text": [
            "['news', 'captions', 'WordNet', 'forums', 'tweets']\n",
            "======\n",
            "training SIF on corpus ['news']\n",
            "---\n",
            "testing result of SIF on news : 67.5\n",
            "testing result of SIF on captions : 77.8\n",
            "testing result of SIF on WordNet : 78.0\n",
            "testing result of SIF on forums : 53.8\n",
            "testing result of SIF on tweets : 72.9\n",
            "======\n",
            "training SIF on corpus ['news', 'captions']\n",
            "---\n",
            "testing result of SIF on news : 66.7\n",
            "testing result of SIF on captions : 80.5\n",
            "testing result of SIF on WordNet : 79.5\n",
            "testing result of SIF on forums : 54.6\n",
            "testing result of SIF on tweets : 73.8\n",
            "======\n",
            "training SIF on corpus ['news', 'captions', 'WordNet']\n",
            "---\n",
            "testing result of SIF on news : 66.2\n",
            "testing result of SIF on captions : 80.1\n",
            "testing result of SIF on WordNet : 81.0\n",
            "testing result of SIF on forums : 55.8\n",
            "testing result of SIF on tweets : 74.7\n",
            "======\n",
            "training SIF on corpus ['news', 'captions', 'WordNet', 'forums']\n",
            "---\n",
            "testing result of SIF on news : 66.0\n",
            "testing result of SIF on captions : 80.0\n",
            "testing result of SIF on WordNet : 81.4\n",
            "testing result of SIF on forums : 56.5\n",
            "testing result of SIF on tweets : 74.9\n",
            "======\n",
            "training SIF on corpus ['news', 'captions', 'WordNet', 'forums', 'tweets']\n",
            "---\n",
            "testing result of SIF on news : 65.9\n",
            "testing result of SIF on captions : 80.0\n",
            "testing result of SIF on WordNet : 81.4\n",
            "testing result of SIF on forums : 56.6\n",
            "testing result of SIF on tweets : 74.9\n",
            "======\n"
          ],
          "name": "stdout"
        }
      ]
    },
    {
      "metadata": {
        "id": "jYMWc-zccKcm",
        "colab_type": "text"
      },
      "cell_type": "markdown",
      "source": [
        "### (3) Conceptor-aided (CA)"
      ]
    },
    {
      "metadata": {
        "id": "ekwuB-6HcRCP",
        "colab_type": "code",
        "colab": {}
      },
      "cell_type": "code",
      "source": [
        "def NOT(C, out_mode = \"simple\"):\n",
        "  \"\"\"\n",
        "  Compute NOT operation of conceptor.\n",
        "  \n",
        "  @param R: conceptor matrix\n",
        "  @param out_mode: output mode (\"simple\"/\"complete\")\n",
        "  \n",
        "  @return not_C: NOT C\n",
        "  @return U: eigen vectors of not_C\n",
        "  @return S: eigen values of not_C\n",
        "  \"\"\"\n",
        "  \n",
        "  dim = C.shape[0]\n",
        "  \n",
        "  not_C = np.eye(dim) - C\n",
        "  \n",
        "\n",
        "  if out_mode == \"complete\":\n",
        "    U, S, _ = np.linalg.svd(not_C)\n",
        "    return not_C, U, S\n",
        "  else:\n",
        "    return not_C\n",
        "  \n",
        "def AND(C, B, out_mode = \"simple\", tol = 1e-14):\n",
        "  \"\"\"\n",
        "  Compute AND Operation of two conceptor matrices\n",
        "  \n",
        "  @param C: a conceptor matrix\n",
        "  @param B: another conceptor matrix\n",
        "  @param out_mode: output mode (\"simple\"/\"complete\")\n",
        "  @param tol: adjust parameter for almost zero\n",
        "  \n",
        "  @return C_and_B: C AND B\n",
        "  @return U: eigen vectors of C_and_B\n",
        "  @return S: eigen values of C_and_B\n",
        "  \"\"\"\n",
        "  \n",
        "  dim = C.shape[0]\n",
        "  \n",
        "  UC, SC, _ = np.linalg.svd(C)\n",
        "  UB, SB, _ = np.linalg.svd(B)\n",
        "  \n",
        "  num_rank_C = np.sum((SC > tol).astype(float))\n",
        "  num_rank_B = np.sum((SB > tol).astype(float))\n",
        "  \n",
        "  UC0 = UC[:, int(num_rank_C):]\n",
        "  UB0 = UB[:, int(num_rank_B):]\n",
        "  \n",
        "  W, sigma, _ = np.linalg.svd(UC0.dot(UC0.T) + UB0.dot(UB0.T))\n",
        "  num_rank_sigma = np.sum((sigma > tol).astype(float))\n",
        "  Wgk = W[:, int(num_rank_sigma):]\n",
        "  \n",
        "  C_and_B = Wgk.dot(np.linalg.inv(Wgk.T.dot(np.linalg.pinv(C, tol) + np.linalg.pinv(B, tol) - np.eye(dim)).dot(Wgk))).dot(Wgk.T)\n",
        "  \n",
        "\n",
        "  if out_mode ==\"complete\":\n",
        "    U, S, _ = np.linalg.svd(C_and_B)\n",
        "    return C_and_B, U, S\n",
        "  else:\n",
        "    return C_and_B\n",
        "  \n",
        "def OR(R, Q, out_mode = \"simple\"):\n",
        "  \"\"\"\n",
        "  Compute OR operation of two conceptor matrices\n",
        "  \n",
        "  @param R: a conceptor matrix\n",
        "  @param Q: another conceptor matrix\n",
        "  @param out_mode: output mode (\"simple\"/\"complete\")\n",
        "  \n",
        "  @return R_or_Q: R OR Q\n",
        "  @return U: eigen vectors of R_or_Q\n",
        "  @return S: eigen values of R_or_Q\n",
        "  \"\"\"\n",
        "  \n",
        "  R_or_Q = NOT(AND(NOT(R), NOT(Q)))\n",
        "\n",
        "\n",
        "  if out_mode == \"complete\":\n",
        "    U, S, _ = np.linalg.svd(R_or_Q)\n",
        "    return R_or_Q, U, S\n",
        "  else:\n",
        "    return R_or_Q\n",
        "  \n",
        "  \n",
        "def train_Conceptor(wordVecModel_str, wordList, alpha = 1, plotSpectrum = False):\n",
        "    # compute the conceptor with the word list provided\n",
        "    \n",
        "    wordVecModel = eval(wordVecModel_str)    \n",
        "    word_in_wiki_and_model = set(list(wordVecModel.vocab)).intersection(wordList)\n",
        "\n",
        "    x_collector_indices = []\n",
        "\n",
        "\n",
        "    for word in word_in_wiki_and_model:\n",
        "        x_collector_indices.append(wordVecModel.vocab[word].index)\n",
        "\n",
        "    # put the word vectors in columns\n",
        "    x_collector = wordVecModel.vectors[x_collector_indices,:].T       \n",
        "        \n",
        "    \n",
        "    nrWords = x_collector.shape[1] # number of total words\n",
        "    \n",
        "    \n",
        "    R = x_collector.dot(x_collector.T) / nrWords # calculate the correlation matrix\n",
        "    \n",
        "    C = R @ np.linalg.inv(R + alpha ** (-2) * np.eye(300))# calculate the conceptor matrix\n",
        "    \n",
        "    return C\n",
        "\n",
        "def test_stopwords_conceptor(model_str, test_df_string, C_stopwords = None):\n",
        "    ''' \n",
        "    Inputs:\n",
        "    (1) model_str: word vector model, e.g., 'glove'\n",
        "    (2) test_df_string: testing corpus, e.g., 'forums'\n",
        "    (3) C_stopwords: a conceptor trained with stop words\n",
        "\n",
        "    Output:\n",
        "    (4) pearson_correlation: pearson correlation coefficient of the testing corpus\n",
        "    '''\n",
        "  \n",
        "    if C_stopwords is None:\n",
        "        print('no conceptor is loaded!!')\n",
        "        \n",
        "    model = eval(model_str)\n",
        "    df = sts_by_domain[test_df_string]\n",
        "    \n",
        "    target_embedding = np.array(pre_embedding_dict[test_df_string])\n",
        "\n",
        "        \n",
        "    update_negC = NOT(C_stopwords)\n",
        "\n",
        "    embeddings_proj = update_negC.dot(target_embedding.T).T\n",
        "\n",
        "    \n",
        "    sims = [cosine_similarity(embeddings_proj[idx*2].reshape(1, -1), embeddings_proj[idx*2+1].reshape(1, -1))[0][0] for idx in range(int(len(embeddings_proj)/2))]\n",
        "\n",
        "\n",
        "    pearson_correlation = round(scipy.stats.pearsonr(sims, df['sim'])[0] * 100,1)\n",
        "\n",
        "    return pearson_correlation\n",
        "\n",
        "def test_updated_conceptor(model_str, test_df_string, train_df_string_list, C_prev = None, alpha = 1):\n",
        "    ''' \n",
        "    Inputs:\n",
        "    (1) model_str: word vector model, e.g., 'glove'\n",
        "    (2) test_df_string: testing corpus, e.g., 'forums'\n",
        "    (3) train_df_string_list: a list of training corpus, e.g., [forums', 'OnWN']\n",
        "    (4) C_stopwords: a conceptor trained with stop words\n",
        "    (5) C_prev: the previous conceptor\n",
        "    \n",
        "    Output:\n",
        "    (1) updated_C: updated conceptor based on the training corpus and the previous conceptor\n",
        "    (2) pearson_correlation: pearson correlation coefficient of the testing corpus\n",
        "    '''\n",
        "    \n",
        "    model = eval(model_str)\n",
        "    df = sts_by_domain[test_df_string]\n",
        "    \n",
        "    \n",
        "    target_embedding = np.array(pre_embedding_dict[test_df_string])\n",
        "\n",
        "    X_list = []\n",
        "    \n",
        "    for i in np.arange(len(train_df_string_list)):\n",
        "#         token_vecs = token_vecs + tokenVecs_dict[train_df_string_list[i]]\n",
        "        X_list = X_list + pre_embedding_dict[train_df_string_list[i]]\n",
        "\n",
        "\n",
        "    X = np.array(X_list)\n",
        "    \n",
        "    R = (X.T).dot(X) / X.shape[0]\n",
        "    C = R @ np.linalg.inv (R + alpha ** (-2) * np.eye(300))    # calculate the conceptor matrix\n",
        "\n",
        "    if C_prev is None:\n",
        "        print('no previous C was loaded!!')\n",
        "        updated_C = C \n",
        "    else:\n",
        "        updated_C = OR(C, C_prev)\n",
        "\n",
        "    update_negC = NOT(updated_C)\n",
        "    \n",
        "    \n",
        "    embeddings_proj = update_negC.dot(target_embedding.T).T\n",
        "\n",
        "    \n",
        "    sims = [cosine_similarity(embeddings_proj[idx*2].reshape(1, -1), embeddings_proj[idx*2+1].reshape(1, -1))[0][0] for idx in range(int(len(embeddings_proj)/2))]\n",
        "\n",
        "\n",
        "    pearson_correlation = round(scipy.stats.pearsonr(sims, df['sim'])[0] * 100,1)\n",
        "\n",
        "    return updated_C, pearson_correlation\n",
        "  "
      ],
      "execution_count": 0,
      "outputs": []
    },
    {
      "metadata": {
        "id": "biBVOT42cl4v",
        "colab_type": "code",
        "outputId": "6156ae05-92ae-4b8b-ad5b-ac3341d53725",
        "colab": {
          "base_uri": "https://localhost:8080/",
          "height": 187
        }
      },
      "cell_type": "code",
      "source": [
        "import nltk\n",
        "nltk.download('stopwords')\n",
        "STOP = set(nltk.corpus.stopwords.words(\"english\"))\n",
        "\n",
        "# stopwordPath = resourceFile + 'stopwords/en/' + 'corenlp_hardcoded.txt'\n",
        "# stopwordPath = resourceFile + 'stopwords/en/' + 'ranksnl_large.txt'\n",
        "\n",
        "# STOP = []\n",
        "# with open(stopwordPath, \"r+\") as f:\n",
        "#     for line in f:\n",
        "#         STOP.append(line.split('\\n')[0])\n",
        "STOP = [word.replace(\"'\", \"\") for word in STOP]        \n",
        "C_stopword = train_Conceptor('glove', STOP)\n",
        "\n",
        "\n",
        "print('----')\n",
        "print('0 training corpus ')\n",
        "conceptor_zero_corpus_results = []\n",
        "for j in np.arange(len(df_list)):\n",
        "    pearson_correlation = test_stopwords_conceptor('glove', df_list[j], C_stopword)\n",
        "    print(df_list[j], pearson_correlation)\n",
        "    conceptor_zero_corpus_results.append(pearson_correlation)\n",
        "print('----')\n",
        "\n"
      ],
      "execution_count": 0,
      "outputs": [
        {
          "output_type": "stream",
          "text": [
            "[nltk_data] Downloading package stopwords to /root/nltk_data...\n",
            "[nltk_data]   Unzipping corpora/stopwords.zip.\n",
            "----\n",
            "0 training corpus \n",
            "news 65.6\n",
            "captions 79.8\n",
            "WordNet 82.5\n",
            "forums 61.5\n",
            "tweets 75.2\n",
            "----\n"
          ],
          "name": "stdout"
        }
      ]
    },
    {
      "metadata": {
        "id": "L3LYdBWPcrNm",
        "colab_type": "code",
        "outputId": "1b442a2f-70bd-496e-a1eb-e4f8dc12bb5d",
        "colab": {
          "base_uri": "https://localhost:8080/",
          "height": 714
        }
      },
      "cell_type": "code",
      "source": [
        "myList = []\n",
        "\n",
        "countTask = 1\n",
        "C_prev_stopword = C_stopword\n",
        "C_prev_zero = np.eye(300) * 0\n",
        "\n",
        "ca_all_train_result = []\n",
        "\n",
        "no_stopword_ca_all_train_result = []\n",
        "\n",
        "for item in df_list:\n",
        "    print('======')\n",
        "    myList = [item]\n",
        "    print('training CA encoder on corpus', myList)\n",
        "    print('---')\n",
        "\n",
        "\n",
        "    ca_this_train_result = []\n",
        "    no_stopword_ca_this_train_result = []\n",
        "    for j in np.arange(len(df_list)):\n",
        "        _, ca_pearson_correlation = test_updated_conceptor('glove', df_list[j], myList, C_prev_stopword )\n",
        "        _, no_stopword_ca_pearson_correlation = test_updated_conceptor('glove', df_list[j], myList, C_prev_zero )\n",
        "        ca_this_train_result.append(ca_pearson_correlation)\n",
        "        no_stopword_ca_this_train_result.append(no_stopword_ca_pearson_correlation)\n",
        "        print(df_list[j], ca_pearson_correlation)\n",
        "\n",
        "\n",
        "    ca_all_train_result.append(ca_this_train_result)\n",
        "    no_stopword_ca_all_train_result.append(no_stopword_ca_this_train_result)\n",
        "    \n",
        "    \n",
        "    C_prev_stopword, _ = test_updated_conceptor('glove', item, myList,  C_prev_stopword )\n",
        "    C_prev_zero, _ = test_updated_conceptor('glove', item, myList,  C_prev_zero )\n",
        "    \n",
        "    \n",
        "    countTask += 1\n",
        "print('======')"
      ],
      "execution_count": 0,
      "outputs": [
        {
          "output_type": "stream",
          "text": [
            "======\n",
            "training CA encoder on corpus ['news']\n",
            "---\n",
            "news 69.8\n",
            "captions 80.4\n",
            "WordNet 82.1\n",
            "forums 62.2\n",
            "tweets 76.2\n",
            "======\n",
            "training CA encoder on corpus ['captions']\n",
            "---\n",
            "news 69.7\n",
            "captions 84.4\n",
            "WordNet 81.9\n",
            "forums 61.9\n",
            "tweets 76.3\n",
            "======\n",
            "training CA encoder on corpus ['WordNet']\n",
            "---\n",
            "news 69.6\n",
            "captions 84.6\n",
            "WordNet 84.2\n",
            "forums 61.9\n",
            "tweets 76.2\n",
            "======\n",
            "training CA encoder on corpus ['forums']\n",
            "---\n",
            "news 69.6\n",
            "captions 84.7\n",
            "WordNet 83.9\n",
            "forums 63.1\n",
            "tweets 76.1\n",
            "======\n",
            "training CA encoder on corpus ['tweets']\n",
            "---\n",
            "news 69.7\n",
            "captions 84.7\n",
            "WordNet 83.8\n",
            "forums 63.3\n",
            "tweets 76.1\n",
            "======\n"
          ],
          "name": "stdout"
        }
      ]
    },
    {
      "metadata": {
        "id": "riNtUOCzcwB0",
        "colab_type": "text"
      },
      "cell_type": "markdown",
      "source": [
        "## Compare the baseline and CA results"
      ]
    },
    {
      "metadata": {
        "id": "oE_rZLy5tSwk",
        "colab_type": "code",
        "colab": {}
      },
      "cell_type": "code",
      "source": [
        "plt.rc('font', family='DejaVu', serif='Times')\n",
        "plt.rc('text', usetex=False)\n",
        "plt.rc('xtick', labelsize=8)\n",
        "plt.rc('ytick', labelsize=8)\n",
        "plt.rc('axes', labelsize=8)\n"
      ],
      "execution_count": 0,
      "outputs": []
    },
    {
      "metadata": {
        "id": "hNk26o-TpQrb",
        "colab_type": "code",
        "outputId": "acc27260-71e8-4dde-e05a-33b69be32e88",
        "colab": {
          "base_uri": "https://localhost:8080/",
          "height": 198
        }
      },
      "cell_type": "code",
      "source": [
        "concatResult = np.array(list(ca_all_train_result) + (list(sif_all_train_result))) # for the convenience of plot\n",
        "\n",
        "sif_all_train_result = np.array(sif_all_train_result)\n",
        "ca_all_train_result = np.array(ca_all_train_result)\n",
        "no_stopword_ca_all_train_result = np.array(no_stopword_ca_all_train_result)\n",
        "\n",
        "\n",
        "width = 6.3\n",
        "height = width / 1.618 / 5\n",
        "\n",
        "fig = plt.figure()\n",
        "fig.subplots_adjust(left=.05, bottom=.05, right=.99, top= 0.97, wspace = 0.3)\n",
        "\n",
        "\n",
        "for i in range(len(df_list)):\n",
        "    # i = 0    \n",
        "    this_ax = fig.add_subplot('15' + str(i + 1))\n",
        "\n",
        "    this_ax.axhline(y= SIF_specialize_result[i] , color = 'k', linestyle = ':',label = 'corpus specialized SIF')\n",
        "\n",
        "    this_ax.plot(np.array([1,2,3,4,5]), \n",
        "            sif_all_train_result[:,i], \n",
        "            linewidth=2, \n",
        "            linestyle='-', \n",
        "            marker = '^',\n",
        "            markersize=4,\n",
        "            label='train-from-scratch SIF'\n",
        "            );\n",
        "\n",
        "    this_ax.plot(np.array([1,2,3,4,5]), \n",
        "            ca_all_train_result[:,i], \n",
        "            linewidth=2, \n",
        "            linestyle='-', \n",
        "            marker = 's',\n",
        "            markersize=4,\n",
        "            label='CA'\n",
        "            );\n",
        "\n",
        "    if i == math.floor(len(df_list)/2):\n",
        "        legend = this_ax.legend(loc='upper center', bbox_to_anchor=(0.5, -0.3), ncol= 3 ,fontsize='8')\n",
        "\n",
        "    if i == 0:\n",
        "        this_ax.set_ylabel(r\"PCC\")\n",
        "        this_ax.set_xlabel(r\"first $n$ training\" + \"\\n corpora used\")\n",
        "\n",
        "\n",
        "    this_ax.set_title(df_list[i].capitalize() )\n",
        "\n",
        "    plt.setp([this_ax], xticks=[1,2,3,4,5])\n",
        "\n",
        "    plt.sca(this_ax)\n",
        "\n",
        "    minMax = [math.floor(np.min(concatResult[:, i]) - 2), math.ceil(np.max(concatResult[:, i]) + 2)]\n",
        "    this_ax.set_ylim(minMax)\n",
        "    plt.yticks(minMax)\n",
        "\n",
        "fig.set_size_inches(width, height)\n"
      ],
      "execution_count": 0,
      "outputs": [
        {
          "output_type": "stream",
          "text": [
            "/usr/local/lib/python3.6/dist-packages/matplotlib/font_manager.py:1320: UserWarning: findfont: Font family ['DejaVu'] not found. Falling back to DejaVu Sans\n",
            "  (prop.get_family(), self.defaultFamily[fontext]))\n"
          ],
          "name": "stderr"
        },
        {
          "output_type": "display_data",
          "data": {
            "image/png": "[encoded data removed]",
            "text/plain": [
              "<matplotlib.figure.Figure at 0x7f19fa01af28>"
            ]
          },
          "metadata": {
            "tags": []
          }
        }
      ]
    },
    {
      "metadata": {
        "id": "ukpYhWjVe3o1",
        "colab_type": "code",
        "colab": {}
      },
      "cell_type": "code",
      "source": [
        ""
      ],
      "execution_count": 0,
      "outputs": []
    }
  ]
}